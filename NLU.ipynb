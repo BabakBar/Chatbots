{
 "cells": [
  {
   "cell_type": "code",
   "execution_count": null,
   "metadata": {},
   "outputs": [],
   "source": [
    "# use machine learning to turn natural language into structured data using spaCy, scikit-learn, and rasa NLU.\n",
    "# Understanding intents and entities\n"
   ]
  }
 ],
 "metadata": {
  "language_info": {
   "name": "python"
  },
  "orig_nbformat": 4
 },
 "nbformat": 4,
 "nbformat_minor": 2
}
